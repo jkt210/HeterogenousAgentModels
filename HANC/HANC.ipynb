{
 "cells": [
  {
   "cell_type": "markdown",
   "metadata": {},
   "source": [
    "# Imports"
   ]
  },
  {
   "cell_type": "code",
   "execution_count": 1,
   "metadata": {},
   "outputs": [
    {
     "name": "stderr",
     "output_type": "stream",
     "text": [
      "/var/folders/hz/45fl4vkn57b1m09564p79_rc0000gn/T/ipykernel_15073/2904945285.py:10: MatplotlibDeprecationWarning: The seaborn styles shipped by Matplotlib are deprecated since 3.6, as they no longer correspond to the styles shipped by seaborn. However, they will remain available as 'seaborn-v0_8-<style>'. Alternatively, directly use the seaborn API instead.\n",
      "  plt.style.use('seaborn-whitegrid')\n"
     ]
    }
   ],
   "source": [
    "%load_ext autoreload\n",
    "%autoreload 2\n",
    "\n",
    "import time\n",
    "import pickle\n",
    "import numpy as np\n",
    "from scipy import optimize\n",
    "\n",
    "import matplotlib.pyplot as plt   \n",
    "plt.style.use('seaborn-whitegrid')\n",
    "prop_cycle = plt.rcParams['axes.prop_cycle']\n",
    "colors = prop_cycle.by_key()['color']\n",
    "\n",
    "from HANCGovModel import HANCGovModelClass"
   ]
  },
  {
   "cell_type": "markdown",
   "metadata": {
    "tags": []
   },
   "source": [
    "# Setup"
   ]
  },
  {
   "cell_type": "code",
   "execution_count": 19,
   "metadata": {},
   "outputs": [],
   "source": [
    "model = HANCGovModelClass(name='baseline')"
   ]
  },
  {
   "cell_type": "code",
   "execution_count": 20,
   "metadata": {},
   "outputs": [],
   "source": [
    "par = model.par\n",
    "ss = model.ss"
   ]
  },
  {
   "cell_type": "markdown",
   "metadata": {},
   "source": [
    "# Test household problem"
   ]
  },
  {
   "cell_type": "code",
   "execution_count": 21,
   "metadata": {},
   "outputs": [],
   "source": [
    "ss.r = 0.02\n",
    "ss.w = 1.00\n",
    "ss.tau_a = 0.0\n",
    "ss.tau_l = 0.0"
   ]
  },
  {
   "cell_type": "code",
   "execution_count": 22,
   "metadata": {},
   "outputs": [
    {
     "name": "stdout",
     "output_type": "stream",
     "text": [
      "household problem in ss solved in 6.0 secs [358 iterations]\n",
      "household problem in ss simulated in 2.3 secs [467 iterations]\n"
     ]
    }
   ],
   "source": [
    "model.solve_hh_ss(do_print=True)\n",
    "model.simulate_hh_ss(do_print=True)"
   ]
  },
  {
   "cell_type": "markdown",
   "metadata": {},
   "source": [
    "# Find stationary equilibrium"
   ]
  },
  {
   "cell_type": "code",
   "execution_count": 23,
   "metadata": {},
   "outputs": [
    {
     "data": {
      "text/plain": [
       "float"
      ]
     },
     "execution_count": 23,
     "metadata": {},
     "output_type": "execute_result"
    }
   ],
   "source": [
    "type(par.zeta)"
   ]
  },
  {
   "cell_type": "code",
   "execution_count": 25,
   "metadata": {},
   "outputs": [
    {
     "ename": "ValueError",
     "evalue": "operands could not be broadcast together with shapes (2,) (7,) ",
     "output_type": "error",
     "traceback": [
      "\u001b[0;31m---------------------------------------------------------------------------\u001b[0m",
      "\u001b[0;31mValueError\u001b[0m                                Traceback (most recent call last)",
      "Cell \u001b[0;32mIn [25], line 1\u001b[0m\n\u001b[0;32m----> 1\u001b[0m model\u001b[39m.\u001b[39;49mfind_ss(model)\n",
      "File \u001b[0;32m~/Desktop/Advanced_Macroeconomics_Heterogenous_Agents_Models/Assignment_1/steady_state.py:85\u001b[0m, in \u001b[0;36mfind_ss\u001b[0;34m(model, do_print, tol)\u001b[0m\n\u001b[1;32m     82\u001b[0m min_KL \u001b[39m=\u001b[39m (par\u001b[39m.\u001b[39mdelta\u001b[39m/\u001b[39mpar\u001b[39m.\u001b[39malpha\u001b[39m*\u001b[39mpar\u001b[39m.\u001b[39mGamma)\u001b[39m*\u001b[39m\u001b[39m*\u001b[39m(\u001b[39m1\u001b[39m\u001b[39m/\u001b[39m(par\u001b[39m.\u001b[39malpha\u001b[39m-\u001b[39m\u001b[39m1\u001b[39m))\n\u001b[1;32m     83\u001b[0m max_KL \u001b[39m=\u001b[39m ((\u001b[39m1\u001b[39m\u001b[39m/\u001b[39mpar\u001b[39m.\u001b[39mbeta\u001b[39m-\u001b[39m\u001b[39m1\u001b[39m\u001b[39m+\u001b[39mpar\u001b[39m.\u001b[39mdelta)\u001b[39m/\u001b[39mpar\u001b[39m.\u001b[39malpha\u001b[39m*\u001b[39mpar\u001b[39m.\u001b[39mGamma)\u001b[39m*\u001b[39m\u001b[39m*\u001b[39m(\u001b[39m1\u001b[39m\u001b[39m/\u001b[39m(par\u001b[39m.\u001b[39malpha\u001b[39m-\u001b[39m\u001b[39m1\u001b[39m))\n\u001b[0;32m---> 85\u001b[0m res \u001b[39m=\u001b[39m scipy\u001b[39m.\u001b[39;49moptimize\u001b[39m.\u001b[39;49mroot(obj_ss, x0 \u001b[39m=\u001b[39;49m [min_KL,max_KL], args \u001b[39m=\u001b[39;49m (model), method \u001b[39m=\u001b[39;49m \u001b[39m'\u001b[39;49m\u001b[39mhybr\u001b[39;49m\u001b[39m'\u001b[39;49m, options \u001b[39m=\u001b[39;49m {\u001b[39m\"\u001b[39;49m\u001b[39mxtol\u001b[39;49m\u001b[39m\"\u001b[39;49m: tol})\n\u001b[1;32m     87\u001b[0m \u001b[39mif\u001b[39;00m do_print: \u001b[39mprint\u001b[39m(\u001b[39mf\u001b[39m\u001b[39m'\u001b[39m\u001b[39mfound steady state in \u001b[39m\u001b[39m{\u001b[39;00melapsed(t0)\u001b[39m}\u001b[39;00m\u001b[39m'\u001b[39m)\n",
      "File \u001b[0;32m~/opt/anaconda3/lib/python3.8/site-packages/scipy/optimize/_root.py:234\u001b[0m, in \u001b[0;36mroot\u001b[0;34m(fun, x0, args, method, jac, tol, callback, options)\u001b[0m\n\u001b[1;32m    231\u001b[0m         options\u001b[39m.\u001b[39msetdefault(\u001b[39m'\u001b[39m\u001b[39mfatol\u001b[39m\u001b[39m'\u001b[39m, np\u001b[39m.\u001b[39minf)\n\u001b[1;32m    233\u001b[0m \u001b[39mif\u001b[39;00m meth \u001b[39m==\u001b[39m \u001b[39m'\u001b[39m\u001b[39mhybr\u001b[39m\u001b[39m'\u001b[39m:\n\u001b[0;32m--> 234\u001b[0m     sol \u001b[39m=\u001b[39m _root_hybr(fun, x0, args\u001b[39m=\u001b[39;49margs, jac\u001b[39m=\u001b[39;49mjac, \u001b[39m*\u001b[39;49m\u001b[39m*\u001b[39;49moptions)\n\u001b[1;32m    235\u001b[0m \u001b[39melif\u001b[39;00m meth \u001b[39m==\u001b[39m \u001b[39m'\u001b[39m\u001b[39mlm\u001b[39m\u001b[39m'\u001b[39m:\n\u001b[1;32m    236\u001b[0m     sol \u001b[39m=\u001b[39m _root_leastsq(fun, x0, args\u001b[39m=\u001b[39margs, jac\u001b[39m=\u001b[39mjac, \u001b[39m*\u001b[39m\u001b[39m*\u001b[39moptions)\n",
      "File \u001b[0;32m~/opt/anaconda3/lib/python3.8/site-packages/scipy/optimize/_minpack_py.py:226\u001b[0m, in \u001b[0;36m_root_hybr\u001b[0;34m(func, x0, args, jac, col_deriv, xtol, maxfev, band, eps, factor, diag, **unknown_options)\u001b[0m\n\u001b[1;32m    224\u001b[0m \u001b[39mif\u001b[39;00m \u001b[39mnot\u001b[39;00m \u001b[39misinstance\u001b[39m(args, \u001b[39mtuple\u001b[39m):\n\u001b[1;32m    225\u001b[0m     args \u001b[39m=\u001b[39m (args,)\n\u001b[0;32m--> 226\u001b[0m shape, dtype \u001b[39m=\u001b[39m _check_func(\u001b[39m'\u001b[39;49m\u001b[39mfsolve\u001b[39;49m\u001b[39m'\u001b[39;49m, \u001b[39m'\u001b[39;49m\u001b[39mfunc\u001b[39;49m\u001b[39m'\u001b[39;49m, func, x0, args, n, (n,))\n\u001b[1;32m    227\u001b[0m \u001b[39mif\u001b[39;00m epsfcn \u001b[39mis\u001b[39;00m \u001b[39mNone\u001b[39;00m:\n\u001b[1;32m    228\u001b[0m     epsfcn \u001b[39m=\u001b[39m finfo(dtype)\u001b[39m.\u001b[39meps\n",
      "File \u001b[0;32m~/opt/anaconda3/lib/python3.8/site-packages/scipy/optimize/_minpack_py.py:24\u001b[0m, in \u001b[0;36m_check_func\u001b[0;34m(checker, argname, thefunc, x0, args, numinputs, output_shape)\u001b[0m\n\u001b[1;32m     22\u001b[0m \u001b[39mdef\u001b[39;00m \u001b[39m_check_func\u001b[39m(checker, argname, thefunc, x0, args, numinputs,\n\u001b[1;32m     23\u001b[0m                 output_shape\u001b[39m=\u001b[39m\u001b[39mNone\u001b[39;00m):\n\u001b[0;32m---> 24\u001b[0m     res \u001b[39m=\u001b[39m atleast_1d(thefunc(\u001b[39m*\u001b[39;49m((x0[:numinputs],) \u001b[39m+\u001b[39;49m args)))\n\u001b[1;32m     25\u001b[0m     \u001b[39mif\u001b[39;00m (output_shape \u001b[39mis\u001b[39;00m \u001b[39mnot\u001b[39;00m \u001b[39mNone\u001b[39;00m) \u001b[39mand\u001b[39;00m (shape(res) \u001b[39m!=\u001b[39m output_shape):\n\u001b[1;32m     26\u001b[0m         \u001b[39mif\u001b[39;00m (output_shape[\u001b[39m0\u001b[39m] \u001b[39m!=\u001b[39m \u001b[39m1\u001b[39m):\n",
      "File \u001b[0;32m~/Desktop/Advanced_Macroeconomics_Heterogenous_Agents_Models/Assignment_1/steady_state.py:58\u001b[0m, in \u001b[0;36mobj_ss\u001b[0;34m(KL, model, do_print)\u001b[0m\n\u001b[1;32m     55\u001b[0m ss\u001b[39m.\u001b[39mr \u001b[39m=\u001b[39m ss\u001b[39m.\u001b[39mrB \u001b[39m=\u001b[39m ss\u001b[39m.\u001b[39mrk \u001b[39m-\u001b[39m par\u001b[39m.\u001b[39mdelta\n\u001b[1;32m     57\u001b[0m \u001b[39m# b. households\u001b[39;00m\n\u001b[0;32m---> 58\u001b[0m model\u001b[39m.\u001b[39;49msolve_hh_ss(do_print\u001b[39m=\u001b[39;49mdo_print)\n\u001b[1;32m     59\u001b[0m model\u001b[39m.\u001b[39msimulate_hh_ss(do_print\u001b[39m=\u001b[39mdo_print)\n\u001b[1;32m     61\u001b[0m \u001b[39m# c. government\u001b[39;00m\n",
      "File \u001b[0;32m~/GEModelTools/GEModelTools/GEModelClass.py:309\u001b[0m, in \u001b[0;36mGEModelClass.solve_hh_ss\u001b[0;34m(self, do_print, initial_guess)\u001b[0m\n\u001b[1;32m    306\u001b[0m \u001b[39mif\u001b[39;00m initial_guess \u001b[39mis\u001b[39;00m \u001b[39mNone\u001b[39;00m: initial_guess \u001b[39m=\u001b[39m {}\n\u001b[1;32m    308\u001b[0m \u001b[39m# a. prepare model to find steady state\u001b[39;00m\n\u001b[0;32m--> 309\u001b[0m \u001b[39mself\u001b[39;49m\u001b[39m.\u001b[39;49mprepare_hh_ss()\n\u001b[1;32m    311\u001b[0m \u001b[39m# check\u001b[39;00m\n\u001b[1;32m    312\u001b[0m \u001b[39mfor\u001b[39;00m i_fix \u001b[39min\u001b[39;00m \u001b[39mrange\u001b[39m(\u001b[39mself\u001b[39m\u001b[39m.\u001b[39mpar\u001b[39m.\u001b[39mNfix):\n",
      "File \u001b[0;32m~/Desktop/Advanced_Macroeconomics_Heterogenous_Agents_Models/Assignment_1/steady_state.py:39\u001b[0m, in \u001b[0;36mprepare_hh_ss\u001b[0;34m(model)\u001b[0m\n\u001b[1;32m     32\u001b[0m ss\u001b[39m.\u001b[39mDbeg[\u001b[39m0\u001b[39m,:,\u001b[39m1\u001b[39m:] \u001b[39m=\u001b[39m \u001b[39m0.0\u001b[39m \u001b[39m# none with a_lag > 0.0\u001b[39;00m\n\u001b[1;32m     34\u001b[0m \u001b[39m################################################\u001b[39;00m\n\u001b[1;32m     35\u001b[0m \u001b[39m# 3. initial guess for intertemporal variables #\u001b[39;00m\n\u001b[1;32m     36\u001b[0m \u001b[39m################################################\u001b[39;00m\n\u001b[1;32m     37\u001b[0m \n\u001b[1;32m     38\u001b[0m \u001b[39m# a. raw value\u001b[39;00m\n\u001b[0;32m---> 39\u001b[0m y \u001b[39m=\u001b[39m ss\u001b[39m.\u001b[39;49mw\u001b[39m*\u001b[39;49mpar\u001b[39m.\u001b[39;49mzeta\u001b[39m*\u001b[39;49mpar\u001b[39m.\u001b[39;49mz_grid\n\u001b[1;32m     40\u001b[0m c \u001b[39m=\u001b[39m m \u001b[39m=\u001b[39m ss\u001b[39m.\u001b[39mr\u001b[39m*\u001b[39m(\u001b[39m1\u001b[39m \u001b[39m-\u001b[39m par\u001b[39m.\u001b[39mtau_a)\u001b[39m*\u001b[39mpar\u001b[39m.\u001b[39ma_grid[np\u001b[39m.\u001b[39mnewaxis,:] \u001b[39m+\u001b[39m y[:,np\u001b[39m.\u001b[39mnewaxis]\n\u001b[1;32m     41\u001b[0m v_a \u001b[39m=\u001b[39m (\u001b[39m1\u001b[39m\u001b[39m+\u001b[39mss\u001b[39m.\u001b[39mr)\u001b[39m*\u001b[39mc\u001b[39m*\u001b[39m\u001b[39m*\u001b[39m(\u001b[39m-\u001b[39mpar\u001b[39m.\u001b[39msigma)\n",
      "\u001b[0;31mValueError\u001b[0m: operands could not be broadcast together with shapes (2,) (7,) "
     ]
    }
   ],
   "source": [
    "model.find_ss(model)"
   ]
  },
  {
   "cell_type": "code",
   "execution_count": 26,
   "metadata": {},
   "outputs": [
    {
     "name": "stdout",
     "output_type": "stream",
     "text": [
      "[1.12093022 0.96549399]\n",
      "1.1\n",
      "[0.23349561 0.36161213 0.56002479 0.86730433 1.34318483 2.08017582\n",
      " 3.22154578]\n"
     ]
    }
   ],
   "source": [
    "print(ss.w)\n",
    "print(par.zeta)\n",
    "print(par.z_grid)"
   ]
  }
 ],
 "metadata": {
  "kernelspec": {
   "display_name": "Python 3.8.12 ('base')",
   "language": "python",
   "name": "python3"
  },
  "language_info": {
   "codemirror_mode": {
    "name": "ipython",
    "version": 3
   },
   "file_extension": ".py",
   "mimetype": "text/x-python",
   "name": "python",
   "nbconvert_exporter": "python",
   "pygments_lexer": "ipython3",
   "version": "3.8.13"
  },
  "toc-autonumbering": true,
  "vscode": {
   "interpreter": {
    "hash": "cff217ec73130d674982a019d314a81c0e56d41e373613d512e19a44c310c445"
   }
  }
 },
 "nbformat": 4,
 "nbformat_minor": 4
}
